{
 "cells": [
  {
   "cell_type": "markdown",
   "metadata": {},
   "source": [
    "# Iago as an Intelligent Fool\n",
    "## Shakespearean Background\n",
    "*Othello*, written in 1603 by William Shakespeare and adapted from Cinthio's *A Moorish Captain*, is a play that has withstood the sands of time as one of Shakespeare's best works. Emphazising motifs of racism, jealousy, love and betrayal, it has inspired countless adapdations well into the 21st century. Othello the moor, a successful general in the Venetian army, is convinced by his conniving confidant Iago that his new wife Desdemona is unfaithful. Iago slowly drives Othello to madness, convincing him in the end to murder his own wife and commit suicide. Iago is also often cited as among Shakespeare's best and most terrifying villains; his motivations are kept secret even from the audience and he refuses to reveal them even unto his death.\n",
    "\n",
    "However, some have claimed that in the original production of *Othello*, the role of Iago was assumed by Robert Armin. Armin was Shakespeare's jester and an early promoter of the role of the \"intelligent fool\"; he believed that the purpose of the fool's character was to \"know all qualities, with a learned spirit / Of human dealings\" (a quote directly from *Othello*, describing Iago). Gary Schmidgall, through literary analysis, claims that \"Iago's subversions are violent and fatal. In a curious way, he represents the revenge of all Renaissance jesters who felt the 'curse of service'\" (*Shakespeare and the Poet's Life*, 157). There was no solid historical record of Armin having played the role, but comparative literature scholars had, through careful research, tried to build the case that Armin was who Shakespeare had written the role of Iago for.\n",
    "\n",
    "Then, in 2011, Michael Witmore of the Folger Shakespeare Library used the software DocuScope to categorize the language of Shakespeare's plays and to identify the differences in language between Shakespeare's comedies and tragedies. In the process, Witmore seemed to prove that *Othello* was \"intentionally written with comedic stylistic cues that served to intensify the play's tragic aspects\". I hope to show the same with Iago -- that Shakespeare uses the linguistic blueprint of an intelligent fool to subvert the audience's expectations and heighten the tragic nature of Othello.\n",
    "## Data Science Intro\n",
    "The process of data analyzation is broken down into five parts: collection, processing, vizualisation, analysis & hypothesis testing, and insight. The proccess is not a linear one: it's often useful to go back and repeat steps multiple times to refine your methodology or observe new things that were not expected before.\n",
    "\n",
    "The data necessary for this process isn't the same as many other data projects. It's often well organized: I'm sure that most people who've been into a bookstore or a library have encountered The Complete Works of William Shakespeare. However, that format of data isn't conducive to data analysis. Luckily, a kaggle user named Liam Larsen posted a dataset that divides each play into their requisite lines, then labels each line by who says it, in which play, in which act and in which scene.\n",
    "\n",
    "Analysis would be the hardest step, I believed. I had a clear hypothesis: Shakespeare's Iago was the model of a comic fool that had been turned on its head to emphasize the tragic nature of the play Othello, and that Robert Armin, the master of the intelligent fool, had played him in the original production. How to go about proving this would prove to be the most difficult problem. I used a variety of natural language processing tools, from basic word counts and word length analysis to more complex analysis of parts of speech frequency and polarization testing. Natural language processing is an imperfect science at best, especially when it comes to language so semantically rich and syntactically confusing as Shakespeare, but I was certain that the tools I had were up to the job."
   ]
  },
  {
   "cell_type": "code",
   "execution_count": 26,
   "metadata": {},
   "outputs": [
    {
     "name": "stdout",
     "output_type": "stream",
     "text": [
      "Requirement already satisfied: nltk in /opt/conda/lib/python3.6/site-packages\n",
      "Requirement already satisfied: six in /opt/conda/lib/python3.6/site-packages (from nltk)\n",
      "Requirement already satisfied: textblob in /opt/conda/lib/python3.6/site-packages\n",
      "Requirement already satisfied: nltk>=3.1 in /opt/conda/lib/python3.6/site-packages (from textblob)\n",
      "Requirement already satisfied: six in /opt/conda/lib/python3.6/site-packages (from nltk>=3.1->textblob)\n",
      "[nltk_data] Downloading package averaged_perceptron_tagger to\n",
      "[nltk_data]     /home/jovyan/nltk_data...\n",
      "[nltk_data]   Unzipping taggers/averaged_perceptron_tagger.zip.\n",
      "[nltk_data] Downloading package punkt to /home/jovyan/nltk_data...\n",
      "[nltk_data]   Package punkt is already up-to-date!\n"
     ]
    }
   ],
   "source": [
    "#the following dataset (Shakespeare_data.csv) was taken from\n",
    "#https://www.kaggle.com/kingburrito666/shakespeare-plays\n",
    "\n",
    "!pip install nltk\n",
    "!pip install textblob\n",
    "from textblob import TextBlob\n",
    "import nltk\n",
    "from nltk import word_tokenize\n",
    "nltk.download('averaged_perceptron_tagger')\n",
    "nltk.download('punkt')\n",
    "import pandas as pd\n",
    "import numpy as np\n",
    "import matplotlib.pyplot as plt\n",
    "\n",
    "def split_acts(character):\n",
    "    character['act'] = ''\n",
    "    character['scene'] = ''\n",
    "    character['line'] = ''\n",
    "    for index, row in character.iterrows():\n",
    "        act_string = row.ActSceneLine\n",
    "        [act,scene,line]=act_string.split('.')\n",
    "        character.set_value(index,'act',act)\n",
    "        character.set_value(index,'scene',scene)\n",
    "        character.set_value(index,'line',line)\n",
    "    character = character.drop('PlayerLinenumber',axis=1)\n",
    "    character = character.drop('ActSceneLine',axis=1)\n",
    "    return character\n",
    "\n",
    "#install and import all required packages, define necessary methods"
   ]
  },
  {
   "cell_type": "code",
   "execution_count": 10,
   "metadata": {},
   "outputs": [
    {
     "data": {
      "text/html": [
       "<div>\n",
       "<table border=\"1\" class=\"dataframe\">\n",
       "  <thead>\n",
       "    <tr style=\"text-align: right;\">\n",
       "      <th></th>\n",
       "      <th>Dataline</th>\n",
       "      <th>Play</th>\n",
       "      <th>PlayerLinenumber</th>\n",
       "      <th>ActSceneLine</th>\n",
       "      <th>Player</th>\n",
       "      <th>PlayerLine</th>\n",
       "    </tr>\n",
       "  </thead>\n",
       "  <tbody>\n",
       "    <tr>\n",
       "      <th>0</th>\n",
       "      <td>1</td>\n",
       "      <td>Henry IV</td>\n",
       "      <td>NaN</td>\n",
       "      <td>NaN</td>\n",
       "      <td>NaN</td>\n",
       "      <td>ACT I</td>\n",
       "    </tr>\n",
       "    <tr>\n",
       "      <th>1</th>\n",
       "      <td>2</td>\n",
       "      <td>Henry IV</td>\n",
       "      <td>NaN</td>\n",
       "      <td>NaN</td>\n",
       "      <td>NaN</td>\n",
       "      <td>SCENE I. London. The palace.</td>\n",
       "    </tr>\n",
       "    <tr>\n",
       "      <th>2</th>\n",
       "      <td>3</td>\n",
       "      <td>Henry IV</td>\n",
       "      <td>NaN</td>\n",
       "      <td>NaN</td>\n",
       "      <td>NaN</td>\n",
       "      <td>Enter KING HENRY, LORD JOHN OF LANCASTER, the ...</td>\n",
       "    </tr>\n",
       "    <tr>\n",
       "      <th>3</th>\n",
       "      <td>4</td>\n",
       "      <td>Henry IV</td>\n",
       "      <td>1.0</td>\n",
       "      <td>1.1.1</td>\n",
       "      <td>KING HENRY IV</td>\n",
       "      <td>So shaken as we are, so wan with care,</td>\n",
       "    </tr>\n",
       "    <tr>\n",
       "      <th>4</th>\n",
       "      <td>5</td>\n",
       "      <td>Henry IV</td>\n",
       "      <td>1.0</td>\n",
       "      <td>1.1.2</td>\n",
       "      <td>KING HENRY IV</td>\n",
       "      <td>Find we a time for frighted peace to pant,</td>\n",
       "    </tr>\n",
       "  </tbody>\n",
       "</table>\n",
       "</div>"
      ],
      "text/plain": [
       "   Dataline      Play  PlayerLinenumber ActSceneLine         Player  \\\n",
       "0         1  Henry IV               NaN          NaN            NaN   \n",
       "1         2  Henry IV               NaN          NaN            NaN   \n",
       "2         3  Henry IV               NaN          NaN            NaN   \n",
       "3         4  Henry IV               1.0        1.1.1  KING HENRY IV   \n",
       "4         5  Henry IV               1.0        1.1.2  KING HENRY IV   \n",
       "\n",
       "                                          PlayerLine  \n",
       "0                                              ACT I  \n",
       "1                       SCENE I. London. The palace.  \n",
       "2  Enter KING HENRY, LORD JOHN OF LANCASTER, the ...  \n",
       "3             So shaken as we are, so wan with care,  \n",
       "4         Find we a time for frighted peace to pant,  "
      ]
     },
     "execution_count": 10,
     "metadata": {},
     "output_type": "execute_result"
    }
   ],
   "source": [
    "full_data = pd.read_csv('Shakespeare_data.csv')\n",
    "full_data.head()\n",
    "#read and prepare the data"
   ]
  },
  {
   "cell_type": "markdown",
   "metadata": {},
   "source": [
    "Now, after retrieving the lines for each play, I need to divide the data up into plays for analysis. This was a simple process: thanks to simple and helpful division of data within columns, it was just a matter of sorting through each name and pulling the ones that I need."
   ]
  },
  {
   "cell_type": "code",
   "execution_count": 11,
   "metadata": {},
   "outputs": [
    {
     "data": {
      "text/html": [
       "<div>\n",
       "<table border=\"1\" class=\"dataframe\">\n",
       "  <thead>\n",
       "    <tr style=\"text-align: right;\">\n",
       "      <th></th>\n",
       "      <th>Dataline</th>\n",
       "      <th>Play</th>\n",
       "      <th>PlayerLinenumber</th>\n",
       "      <th>ActSceneLine</th>\n",
       "      <th>Player</th>\n",
       "      <th>PlayerLine</th>\n",
       "    </tr>\n",
       "  </thead>\n",
       "  <tbody>\n",
       "    <tr>\n",
       "      <th>72000</th>\n",
       "      <td>72001</td>\n",
       "      <td>Othello</td>\n",
       "      <td>59.0</td>\n",
       "      <td>NaN</td>\n",
       "      <td>BENEDICK</td>\n",
       "      <td>ACT I</td>\n",
       "    </tr>\n",
       "    <tr>\n",
       "      <th>72001</th>\n",
       "      <td>72002</td>\n",
       "      <td>Othello</td>\n",
       "      <td>59.0</td>\n",
       "      <td>NaN</td>\n",
       "      <td>BENEDICK</td>\n",
       "      <td>SCENE I. Venice. A street.</td>\n",
       "    </tr>\n",
       "    <tr>\n",
       "      <th>72002</th>\n",
       "      <td>72003</td>\n",
       "      <td>Othello</td>\n",
       "      <td>59.0</td>\n",
       "      <td>NaN</td>\n",
       "      <td>BENEDICK</td>\n",
       "      <td>Enter RODERIGO and IAGO</td>\n",
       "    </tr>\n",
       "    <tr>\n",
       "      <th>72003</th>\n",
       "      <td>72004</td>\n",
       "      <td>Othello</td>\n",
       "      <td>1.0</td>\n",
       "      <td>1.1.1</td>\n",
       "      <td>RODERIGO</td>\n",
       "      <td>Tush! never tell me, I take it much unkindly</td>\n",
       "    </tr>\n",
       "    <tr>\n",
       "      <th>72004</th>\n",
       "      <td>72005</td>\n",
       "      <td>Othello</td>\n",
       "      <td>1.0</td>\n",
       "      <td>1.1.2</td>\n",
       "      <td>RODERIGO</td>\n",
       "      <td>That thou, Iago, who hast had my purse</td>\n",
       "    </tr>\n",
       "  </tbody>\n",
       "</table>\n",
       "</div>"
      ],
      "text/plain": [
       "       Dataline     Play  PlayerLinenumber ActSceneLine    Player  \\\n",
       "72000     72001  Othello              59.0          NaN  BENEDICK   \n",
       "72001     72002  Othello              59.0          NaN  BENEDICK   \n",
       "72002     72003  Othello              59.0          NaN  BENEDICK   \n",
       "72003     72004  Othello               1.0        1.1.1  RODERIGO   \n",
       "72004     72005  Othello               1.0        1.1.2  RODERIGO   \n",
       "\n",
       "                                         PlayerLine  \n",
       "72000                                         ACT I  \n",
       "72001                    SCENE I. Venice. A street.  \n",
       "72002                       Enter RODERIGO and IAGO  \n",
       "72003  Tush! never tell me, I take it much unkindly  \n",
       "72004        That thou, Iago, who hast had my purse  "
      ]
     },
     "execution_count": 11,
     "metadata": {},
     "output_type": "execute_result"
    }
   ],
   "source": [
    "othello = full_data[full_data.Play=='Othello']\n",
    "\n",
    "ayli = full_data[full_data.Play=='As you like it']\n",
    "twelfth_night = full_data[full_data.Play=='Twelfth Night']\n",
    "\n",
    "rnj = full_data[full_data.Play=='Romeo and Juliet']\n",
    "titus = full_data[full_data.Play=='Titus Andronicus']\n",
    "othello.head()"
   ]
  },
  {
   "cell_type": "markdown",
   "metadata": {},
   "source": [
    "The plan that I decided to use for strengthening my hypothesis was to compare Iago to comic fools as well as other, more tragic characters. To do this, I needed to retrieve each characters lines from within their own plays. I could have done this with a single step, without creating separate datasets for each play, but I decided that it may be useful for me to have established datasets for each play in case I decided they would be useful later in the process."
   ]
  },
  {
   "cell_type": "code",
   "execution_count": 12,
   "metadata": {},
   "outputs": [
    {
     "data": {
      "text/html": [
       "<div>\n",
       "<table border=\"1\" class=\"dataframe\">\n",
       "  <thead>\n",
       "    <tr style=\"text-align: right;\">\n",
       "      <th></th>\n",
       "      <th>Dataline</th>\n",
       "      <th>Play</th>\n",
       "      <th>Player</th>\n",
       "      <th>PlayerLine</th>\n",
       "      <th>act</th>\n",
       "      <th>scene</th>\n",
       "      <th>line</th>\n",
       "    </tr>\n",
       "  </thead>\n",
       "  <tbody>\n",
       "    <tr>\n",
       "      <th>72006</th>\n",
       "      <td>72007</td>\n",
       "      <td>Othello</td>\n",
       "      <td>IAGO</td>\n",
       "      <td>'Sblood, but you will not hear me:</td>\n",
       "      <td>1</td>\n",
       "      <td>1</td>\n",
       "      <td>4</td>\n",
       "    </tr>\n",
       "    <tr>\n",
       "      <th>72007</th>\n",
       "      <td>72008</td>\n",
       "      <td>Othello</td>\n",
       "      <td>IAGO</td>\n",
       "      <td>If ever I did dream of such a matter, Abhor me.</td>\n",
       "      <td>1</td>\n",
       "      <td>1</td>\n",
       "      <td>5</td>\n",
       "    </tr>\n",
       "    <tr>\n",
       "      <th>72009</th>\n",
       "      <td>72010</td>\n",
       "      <td>Othello</td>\n",
       "      <td>IAGO</td>\n",
       "      <td>Despise me, if I do not. Three great ones of t...</td>\n",
       "      <td>1</td>\n",
       "      <td>1</td>\n",
       "      <td>7</td>\n",
       "    </tr>\n",
       "    <tr>\n",
       "      <th>72010</th>\n",
       "      <td>72011</td>\n",
       "      <td>Othello</td>\n",
       "      <td>IAGO</td>\n",
       "      <td>In personal suit to make me his lieutenant,</td>\n",
       "      <td>1</td>\n",
       "      <td>1</td>\n",
       "      <td>8</td>\n",
       "    </tr>\n",
       "    <tr>\n",
       "      <th>72011</th>\n",
       "      <td>72012</td>\n",
       "      <td>Othello</td>\n",
       "      <td>IAGO</td>\n",
       "      <td>Off-capp'd to him: and, by the faith of man,</td>\n",
       "      <td>1</td>\n",
       "      <td>1</td>\n",
       "      <td>9</td>\n",
       "    </tr>\n",
       "  </tbody>\n",
       "</table>\n",
       "</div>"
      ],
      "text/plain": [
       "       Dataline     Play Player  \\\n",
       "72006     72007  Othello   IAGO   \n",
       "72007     72008  Othello   IAGO   \n",
       "72009     72010  Othello   IAGO   \n",
       "72010     72011  Othello   IAGO   \n",
       "72011     72012  Othello   IAGO   \n",
       "\n",
       "                                              PlayerLine act scene line  \n",
       "72006                 'Sblood, but you will not hear me:   1     1    4  \n",
       "72007    If ever I did dream of such a matter, Abhor me.   1     1    5  \n",
       "72009  Despise me, if I do not. Three great ones of t...   1     1    7  \n",
       "72010        In personal suit to make me his lieutenant,   1     1    8  \n",
       "72011       Off-capp'd to him: and, by the faith of man,   1     1    9  "
      ]
     },
     "execution_count": 12,
     "metadata": {},
     "output_type": "execute_result"
    }
   ],
   "source": [
    "iago = split_acts(othello[othello.Player=='IAGO'].dropna())\n",
    "\n",
    "touchstone = split_acts(ayli[ayli.Player=='TOUCHSTONE'].dropna())\n",
    "feste = split_acts(twelfth_night[twelfth_night.Player=='Clown'].dropna())\n",
    "\n",
    "aaron = split_acts(titus[titus.Player=='AARON'].dropna())\n",
    "romeo = split_acts(rnj[rnj.Player=='ROMEO'].dropna())\n",
    "\n",
    "iago.head()"
   ]
  },
  {
   "cell_type": "markdown",
   "metadata": {},
   "source": [
    "## Initial Steps\n",
    "\n",
    "A question I ran into very early on in the process is how I would quantify \"similarity\" and \"difference\" between Iago and Shakespeare's other fools and villains. I decided to try some basic comparative analysis between two fools, Touchstone and Feste (also played by Richard Armin), two classic tragic characters, Aaron and Romeo, and Iago. This initial analysis would be composed of baby steps: average line length, average word length, number of \"large\" continuous lines, etc. Though unlikely to yield real results, this will get the ball rolling on messing around with the lines of these characters."
   ]
  },
  {
   "cell_type": "code",
   "execution_count": 19,
   "metadata": {},
   "outputs": [
    {
     "name": "stdout",
     "output_type": "stream",
     "text": [
      "Avg Words per Line, IAGO: 9.473206176203451\n",
      "\n",
      "Avg Words per Line, TOUCHSTONE: 10.581818181818182\n",
      "Avg Words per Line, FESTE: 9.983766233766234\n",
      "\n",
      "Avg Words per Line, AARON: 9.668539325842696\n",
      "Avg Words per Line, ROMEO: 9.425774877650896\n",
      "\n",
      "Avg Word Length, IAGO: 3.9218696299690685\n",
      "\n",
      "Avg Word Length, TOUCHSTONE: 3.860790774299835\n",
      "Avg Word Length, FESTE: 3.750295857988166\n",
      "\n",
      "Avg Word Length, AARON: 3.9603554340396445\n",
      "Avg Word Length, ROMEO: 3.944933469805527\n",
      "\n"
     ]
    }
   ],
   "source": [
    "def average_words(character):\n",
    "    total_words = 0.0\n",
    "    total_lines = 0.0\n",
    "    for index, row in character.iterrows():\n",
    "        tokenized_list = word_tokenize(row['PlayerLine'])\n",
    "        num_words = len(tokenized_list)\n",
    "        total_words += num_words\n",
    "        total_lines += 1\n",
    "    return total_words/total_lines\n",
    "\n",
    "def is_punctuation(x):\n",
    "    return(x==','or x==';'or x=='.'or x==':'or x=='!'or x=='--')\n",
    "\n",
    "def total_dictionary(character):\n",
    "    words = []\n",
    "    for index, row in character.iterrows():\n",
    "        tokenized_list = word_tokenize(row['PlayerLine'])\n",
    "        words = words+tokenized_list\n",
    "    words[:] = [x for x in words if not is_punctuation(x)]\n",
    "    return words\n",
    "\n",
    "def avg_word_length(character):\n",
    "    total = total_dictionary(character)\n",
    "    total_char=0.0\n",
    "    num_word = len(total)\n",
    "    for word in total:\n",
    "        total_char += len(word)\n",
    "    return (total_char/num_word)\n",
    "\n",
    "\n",
    "print('Avg Words per Line, IAGO: {}\\n'.format(average_words(iago)))\n",
    "print('Avg Words per Line, TOUCHSTONE: {}'.format(average_words(touchstone)))\n",
    "print('Avg Words per Line, FESTE: {}\\n'.format(average_words(feste)))\n",
    "print('Avg Words per Line, AARON: {}'.format(average_words(aaron)))\n",
    "print('Avg Words per Line, ROMEO: {}\\n'.format(average_words(romeo)))\n",
    "\n",
    "print('Avg Word Length, IAGO: {}\\n'.format(avg_word_length(iago)))\n",
    "print('Avg Word Length, TOUCHSTONE: {}'.format(avg_word_length(touchstone)))\n",
    "print('Avg Word Length, FESTE: {}\\n'.format(avg_word_length(feste)))\n",
    "print('Avg Word Length, AARON: {}'.format(avg_word_length(aaron)))\n",
    "print('Avg Word Length, ROMEO: {}\\n'.format(avg_word_length(romeo)))"
   ]
  },
  {
   "cell_type": "markdown",
   "metadata": {},
   "source": [
    "This initial analysis doesn't reveal anything interesting: there's no significant pattern we can glean from the length of sentence or length of word, not when examining the full body of text. I decided to then attempt some analysis on more specific segments: comparing similar styles of interaction (one on one interaction) within each play. Touchstone and Audrey (*As You Like It III.3*), Feste and Viola (*Twelfth Night III.1*), Iago and Othello (*Othello III.1*), Aaron and Lucius (*Titus Andronicus V.1*), and Romeo and Friar Lawrence (*Romeo and Juliet III.3*)."
   ]
  },
  {
   "cell_type": "code",
   "execution_count": 14,
   "metadata": {
    "collapsed": true
   },
   "outputs": [],
   "source": [
    "def retrieve_scene(character, act_num, scene_num):\n",
    "    character = character[character.act==act_num]\n",
    "    character = character[character.scene==scene_num]\n",
    "    return character\n",
    "\n",
    "touchstone_33 = retrieve_scene(touchstone,'3','3')\n",
    "feste_31 = retrieve_scene(feste,'3','1')\n",
    "iago_33 = retrieve_scene(iago,'3','3')\n",
    "aaron_51 = retrieve_scene(aaron,'5','1')\n",
    "romeo_33 = retrieve_scene(romeo,'3','3')"
   ]
  },
  {
   "cell_type": "code",
   "execution_count": 22,
   "metadata": {},
   "outputs": [
    {
     "name": "stdout",
     "output_type": "stream",
     "text": [
      "34: SIZE OF POSITIVE ARRAY, IAGO\n",
      "\n",
      "13: SIZE OF NEGATIVE ARRAY, IAGO\n",
      "\n",
      "15: SIZE OF POSITIVE ARRAY, TOUCHSTONE\n",
      "\n",
      "2: SIZE OF NEGATIVE ARRAY, TOUCHSTONE\n",
      "\n",
      "0: SIZE OF POSITIVE ARRAY, FESTE\n",
      "\n",
      "3: SIZE OF NEGATIVE ARRAY, FESTE\n",
      "\n",
      "3: SIZE OF POSITIVE ARRAY, AARON\n",
      "\n",
      "1: SIZE OF NEGATIVE ARRAY, AARON\n",
      "\n",
      "8: SIZE OF POSITIVE ARRAY, ROMEO\n",
      "\n",
      "2: SIZE OF NEGATIVE ARRAY, ROMEO\n",
      "\n"
     ]
    }
   ],
   "source": [
    "def get_lines(character):\n",
    "    ret_string = \"\"\n",
    "    for index, row in character.iterrows():\n",
    "        ret_string = ret_string + row['PlayerLine'] + \" \"\n",
    "    return ret_string\n",
    "\n",
    "\n",
    "def get_polarities(character):\n",
    "    blob = TextBlob(get_lines(character))\n",
    "    neg = []\n",
    "    pos = []\n",
    "    for sentence in blob.sentences:\n",
    "        pol = sentence.sentiment.polarity\n",
    "        if pol > .2:\n",
    "            pos.append((sentence,pol))\n",
    "        elif pol < (-.2):\n",
    "            neg.append((sentence,pol))\n",
    "    return(pos,neg)\n",
    "\n",
    "(iago_p,iago_n) = get_polarities(iago_33)\n",
    "print(\"{}: SIZE OF POSITIVE ARRAY, IAGO\\n\".format(len(iago_p)))\n",
    "print(\"{}: SIZE OF NEGATIVE ARRAY, IAGO\\n\".format(len(iago_n)))\n",
    "\n",
    "(t_p,t_n) = get_polarities(touchstone_33)\n",
    "print(\"{}: SIZE OF POSITIVE ARRAY, TOUCHSTONE\\n\".format(len(t_p)))\n",
    "print(\"{}: SIZE OF NEGATIVE ARRAY, TOUCHSTONE\\n\".format(len(t_n)))\n",
    "\n",
    "(f_p,f_n) = get_polarities(feste_31)\n",
    "print(\"{}: SIZE OF POSITIVE ARRAY, FESTE\\n\".format(len(f_p)))\n",
    "print(\"{}: SIZE OF NEGATIVE ARRAY, FESTE\\n\".format(len(f_n)))\n",
    "\n",
    "(a_p,a_n) = get_polarities(aaron_51)\n",
    "print(\"{}: SIZE OF POSITIVE ARRAY, AARON\\n\".format(len(a_p)))\n",
    "print(\"{}: SIZE OF NEGATIVE ARRAY, AARON\\n\".format(len(a_n)))\n",
    "\n",
    "(c_p,c_n) = get_polarities(romeo_33)\n",
    "print(\"{}: SIZE OF POSITIVE ARRAY, ROMEO\\n\".format(len(c_p)))\n",
    "print(\"{}: SIZE OF NEGATIVE ARRAY, ROMEO\\n\".format(len(c_n)))"
   ]
  },
  {
   "cell_type": "markdown",
   "metadata": {},
   "source": [
    "Unfortunately, this analysis doesn't return any interesting results either. It appears that in Shakespeare, most characters will speak with positive polarity regardless of context. In Romeo's scene, Romeo discusses killing himself out of fear and grief, but the TextBlob tool still rated the scene more positive than negative."
   ]
  },
  {
   "cell_type": "markdown",
   "metadata": {},
   "source": [
    "Now, I turned to part of speech analysis. In his analysis of *Othello* and *Twelfth Night* to call them both comedies, Michael Witmore said that, in *Twelfth Night*, Feste is the character that provides the most Description strings, but is often alone in his Descriptors. In essence, Feste provides the \"historical\" style of Description, an important factor for fools in comedies. I decided to see if there was anything of a similar nature in the way Iago exists in Othello."
   ]
  },
  {
   "cell_type": "code",
   "execution_count": 57,
   "metadata": {},
   "outputs": [
    {
     "data": {
      "text/html": [
       "<div>\n",
       "<table border=\"1\" class=\"dataframe\">\n",
       "  <thead>\n",
       "    <tr style=\"text-align: right;\">\n",
       "      <th></th>\n",
       "      <th>character</th>\n",
       "      <th>adj_ratio</th>\n",
       "    </tr>\n",
       "  </thead>\n",
       "  <tbody>\n",
       "    <tr>\n",
       "      <th>0</th>\n",
       "      <td>iago</td>\n",
       "      <td>0.062136</td>\n",
       "    </tr>\n",
       "    <tr>\n",
       "      <th>1</th>\n",
       "      <td>feste</td>\n",
       "      <td>0.066182</td>\n",
       "    </tr>\n",
       "    <tr>\n",
       "      <th>2</th>\n",
       "      <td>aaron</td>\n",
       "      <td>0.058722</td>\n",
       "    </tr>\n",
       "  </tbody>\n",
       "</table>\n",
       "</div>"
      ],
      "text/plain": [
       "  character  adj_ratio\n",
       "0      iago   0.062136\n",
       "1     feste   0.066182\n",
       "2     aaron   0.058722"
      ]
     },
     "execution_count": 57,
     "metadata": {},
     "output_type": "execute_result"
    }
   ],
   "source": [
    "def grab_pos(character,pos):\n",
    "    blob = TextBlob(get_lines(character))\n",
    "    tagged = blob.tags\n",
    "    array = []\n",
    "    for (word,pos_1) in tagged:\n",
    "        if(pos_1 == pos):\n",
    "            array.append((word,pos))\n",
    "    return (array,len(tagged))\n",
    "\n",
    "(iago_ar,total_iago) = grab_pos(iago,'JJ')\n",
    "(feste_ar,total_feste) = grab_pos(feste,'JJ')\n",
    "(aaron_ar,total_aaron) = grab_pos(aaron,'JJ')\n",
    "\n",
    "simple_data = pd.DataFrame()\n",
    "simple_data['character'] = ['iago','feste','aaron']\n",
    "simple_data['adj_ratio'] = [len(iago_ar)/total_iago,len(feste_ar)/total_feste,len(aaron_ar)/total_aaron]\n",
    "\n",
    "simple_data.head()"
   ]
  },
  {
   "cell_type": "markdown",
   "metadata": {},
   "source": [
    "There's some slight difference here: Iago is positioned right between Feste's descriptor count and Aaron's. However, the difference between the three is too small to be significant, I believe. A ratio difference of 0.008 is not enough to be considered a distinct character difference.\n",
    "\n",
    "The final aspect of comedic characters that I wanted to investigate was a theory put forward by Michael Witmore in his initial testing of *Twelfth Night* and *Othello*, that comedic scenes were often driven by a confusion of pronoun references: i.e. a lot of \"I\" and \"you\" usages. I decided to test this by grabbing all pronoun references in the lexicons of each character in their one on one scenes."
   ]
  },
  {
   "cell_type": "code",
   "execution_count": 63,
   "metadata": {},
   "outputs": [
    {
     "data": {
      "text/html": [
       "<div>\n",
       "<table border=\"1\" class=\"dataframe\">\n",
       "  <thead>\n",
       "    <tr style=\"text-align: right;\">\n",
       "      <th></th>\n",
       "      <th>character</th>\n",
       "      <th>adj_ratio</th>\n",
       "      <th>directives</th>\n",
       "      <th>pronouns_in_ind_scenes</th>\n",
       "    </tr>\n",
       "  </thead>\n",
       "  <tbody>\n",
       "    <tr>\n",
       "      <th>0</th>\n",
       "      <td>iago</td>\n",
       "      <td>0.062136</td>\n",
       "      <td>0.054268</td>\n",
       "      <td>0.054268</td>\n",
       "    </tr>\n",
       "    <tr>\n",
       "      <th>1</th>\n",
       "      <td>feste</td>\n",
       "      <td>0.066182</td>\n",
       "      <td>0.042813</td>\n",
       "      <td>0.042813</td>\n",
       "    </tr>\n",
       "    <tr>\n",
       "      <th>2</th>\n",
       "      <td>aaron</td>\n",
       "      <td>0.058722</td>\n",
       "      <td>0.040650</td>\n",
       "      <td>0.040650</td>\n",
       "    </tr>\n",
       "  </tbody>\n",
       "</table>\n",
       "</div>"
      ],
      "text/plain": [
       "  character  adj_ratio  directives  pronouns_in_ind_scenes\n",
       "0      iago   0.062136    0.054268                0.054268\n",
       "1     feste   0.066182    0.042813                0.042813\n",
       "2     aaron   0.058722    0.040650                0.040650"
      ]
     },
     "execution_count": 63,
     "metadata": {},
     "output_type": "execute_result"
    }
   ],
   "source": [
    "(iago_you, tot_i) = grab_pos(iago_33,'PRP$')\n",
    "(feste_you, tot_f) = grab_pos(feste_31,'PRP$')\n",
    "(aaron_you, tot_a) = grab_pos(aaron_51,'PRP$')\n",
    "\n",
    "simple_data['pronouns_in_ind_scenes'] = [len(iago_you)/tot_i,len(feste_you)/tot_f,len(aaron_you)/tot_a]\n",
    "simple_data.head()"
   ]
  },
  {
   "cell_type": "markdown",
   "metadata": {},
   "source": [
    "The result of this process is similar to the adjective ratio analysis. There's a difference between the three characters -- in fact, Iago provides the most \"resistnant you\" (Witmore's term) patterns. However, the difference still remains statistically insignificant. While I want to put forward the claim that the patterns point towards the validity of my hypothesis, I don't believe there is enough support to make that claim."
   ]
  },
  {
   "cell_type": "markdown",
   "metadata": {},
   "source": [
    "## Insight\n",
    "Less insight can be gained from this procedure than I had hoped. I was going in with excitement, following the model that Michael Witmore had laid down, but I was unsuccessful for a couple of reasons. The most prominent reason is Shakespeare's language itself: the way that Shakespearean language is built is a way that will undoubtedly confound even robust and complex language analysis tools like TextBlob.\n",
    "\n",
    "Going forward, I would have a couple of recommendations for future projects. The biggest recommendation that I have is to make use of TextBlob's training feature. TextBlob's native state is not one of Shakespearean analysis, but if it is provided with training data that identifies how shakespeare positively and negatively polarizes his sentences, I believe it would still be a useful tool in textual analysis."
   ]
  },
  {
   "cell_type": "markdown",
   "metadata": {},
   "source": [
    "## Sources\n",
    "https://www.fastcompany.com/1800987/data-minings-thing-shakespeare-takes-center-stage-digital-age\n",
    "\n",
    "https://scroll.in/article/817384/how-big-data-discovered-that-othello-is-a-comedy-and-other-adventures-in-digital-shakespeare\n",
    "\n",
    "http://winedarksea.org/\n",
    "\n",
    "Wills, Garry. *Verdi's Shakespeare: Men of the Theater*. New York, NY: Penguin, 2011.\n",
    "\n",
    "Schmidgall, Gary. *Shakespeare and the Poet's Life*. Lexington, KY: University Press of Kentucky, 1990."
   ]
  }
 ],
 "metadata": {
  "kernelspec": {
   "display_name": "Python 3",
   "language": "python",
   "name": "python3"
  },
  "language_info": {
   "codemirror_mode": {
    "name": "ipython",
    "version": 3
   },
   "file_extension": ".py",
   "mimetype": "text/x-python",
   "name": "python",
   "nbconvert_exporter": "python",
   "pygments_lexer": "ipython3",
   "version": "3.6.2"
  }
 },
 "nbformat": 4,
 "nbformat_minor": 2
}
